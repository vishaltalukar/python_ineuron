{
 "cells": [
  {
   "cell_type": "code",
   "execution_count": 10,
   "metadata": {},
   "outputs": [
    {
     "name": "stdout",
     "output_type": "stream",
     "text": [
      "107\n"
     ]
    }
   ],
   "source": [
    "'''1.1Write a Python Program to implement your own myreduce() function which works exactly likePython's built-in function reduce()'''\n",
    "\n",
    "#from functools import reduce # for testing \n",
    "\n",
    "l = [5,9,4,85,4,0]\n",
    "#print(reduce(lambda x,y:x+y,l)) # fro testing\n",
    "\n",
    "def myreduce(a,li):\n",
    "    tal = li[0]\n",
    "    for i in li[1:]:\n",
    "        tal = a(tal,i)\n",
    "    return tal\n",
    "\n",
    "print(myreduce(lambda x,y:x+y,l))\n",
    "\n",
    "#reduce functions taks 2 args \n",
    " #   step 1 :  tal = li[0] # which is first value\n",
    "  #  step 2 :  for in in l[1:] # the complete list\n",
    "   # step 3 :  tal = a(tal,i) # replace first value with the pervious return ..... n-1\n",
    "    #step 3 :  return tal # the final answer\n",
    "\n"
   ]
  },
  {
   "cell_type": "code",
   "execution_count": 1,
   "metadata": {},
   "outputs": [
    {
     "name": "stdout",
     "output_type": "stream",
     "text": [
      "[85]\n"
     ]
    }
   ],
   "source": [
    "l = [5,9,4,85,4]\n",
    "\n",
    "def myfilter(a,li):\n",
    "    tal = []\n",
    "    if a != None:\n",
    "        for i in li:\n",
    "            if a(i):\n",
    "                 tal.append(i)\n",
    "        return tal\n",
    "    else:\n",
    "        print(\"not able to procude with None\")\n",
    "        return tal\n",
    "\n",
    "print(list(myfilter(lambda x:x>=10,l)))\n"
   ]
  },
  {
   "cell_type": "raw",
   "metadata": {},
   "source": [
    "# 2.Implement List comprehensions to produce the following lists.Write List comprehensions to produce the following Lists\n",
    "['A', 'C', 'A', 'D', 'G', 'I', ’L’, ‘ D’]\n",
    "['x', 'xx', 'xxx', 'xxxx', 'y', 'yy', 'yyy', 'yyyy', 'z', 'zz', 'zzz', 'zzzz']\n",
    "['x', 'y', 'z', 'xx', 'yy', 'zz', 'xx', 'yy', 'zz', 'xxxx', 'yyyy', 'zzzz']\n",
    "[[2], [3], [4], [3], [4], [5], [4], [5], [6]]\n",
    "[[2, 3, 4, 5], [3, 4, 5, 6], [4, 5, 6, 7], [5, 6, 7, 8]]\n",
    "[(1, 1), (2, 1), (3, 1), (1, 2), (2, 2), (3, 2), (1, 3), (2, 3), (3, 3)]"
   ]
  },
  {
   "cell_type": "code",
   "execution_count": 136,
   "metadata": {},
   "outputs": [
    {
     "name": "stdout",
     "output_type": "stream",
     "text": [
      "['A', 'C', 'A', 'D', 'G', 'I', 'L', 'D']\n",
      "['x', 'xx', 'xxx', 'xxxx', 'y', 'yy', 'yyy', 'yyyy', 'z', 'zz', 'zzz', 'zzzz']\n",
      "['x', 'y', 'z', 'xx', 'yy', 'zz', 'xx', 'yy', 'zz', 'xxxx', 'yyyy', 'zzzz']\n",
      "[[2], [3], [4], [3], [4], [5], [4], [5], [6]]\n",
      "[[2, 3, 4, 5], [3, 4, 5, 6], [4, 5, 6, 7], [5, 6, 7, 8]]\n",
      "[(1, 1), (2, 1), (3, 1), (1, 2), (2, 2), (3, 2), (1, 3), (2, 3), (3, 3)]\n"
     ]
    }
   ],
   "source": [
    "print([l for l in \"ACADGILD\"])\n",
    "#2\n",
    "li=['x','y','z']\n",
    "print([i*n for i in li for n in range(1,5)])\n",
    "#3\n",
    "p=[i*n  for i in range(1,3)  for n in li ]\n",
    "p1=(i*n  for i in range(2,5)  for n in li if i!=3)#i!=3 skip the third loop\n",
    "p.extend(p1)\n",
    "print(p)\n",
    "#4\n",
    "y=[[x] for x in range(2,5)]\n",
    "y.extend([[y] for y in range(3,6)])\n",
    "y.extend([[y] for y in range(4,7)])\n",
    "print(y)\n",
    "#5\n",
    "y=[[a for a in range(2,6)]]\n",
    "y.extend([[y for y in range(3,7)]])\n",
    "y.extend([[y for y in range(4,8)]])\n",
    "y.extend([[y for y in range(5,9)]])\n",
    "print(y)\n",
    "#6\n",
    "x=[(x,w)for x in range(1,4) for w in range(1,2)]\n",
    "x.extend([(x,w)for x in range(1,4) for w in range(2,3)])\n",
    "x.extend([(x,w)for x in range(1,4) for w in range(3,4)])\n",
    "print(x)\n"
   ]
  },
  {
   "cell_type": "code",
   "execution_count": 25,
   "metadata": {},
   "outputs": [
    {
     "name": "stdout",
     "output_type": "stream",
     "text": [
      "enter the number of elements : Karnataka receives single-day shock with 54 cases  Akhil Kadidal Bengaluru, dhns  Karnataka’s single-day spike in Covid-19 cases reached a new high on Sunday with the state recording 54 cases, out of which 40 involved people who returned from other parts of the country. A member of the Covid Task Force said that aside from cases sprouting in the state due to recent travel histories, “silent districts”, which have not reported a single case, would soon start registering outbreaks.  This showed that adequate testing is not being carried out on people prior to interstate movement, experts said, who also pointed out that the relaxation of lockdown has led to a rash of new cases since May 4.  According to data from the Department of Health and Family Welfare, there have been over 234 virus cases in the last six days, whereas the last six days before lockdown saw only 102 cases.  Dr R Balasubramanium, director of the Swami Vivekananda Movement, described the lifting of lockdown as a disaster which could potentially see the number of cases in the country reach anywhere from three to four lakh.  Pankaj Pandey, Commissioner, Department of Health and Family Welfare, said the lifting of lockdown was done keeping in mind both the impact of the disease and the need to safeguard livelihoods. “This was not a decision made lightly. But we, as a state, have to tread a careful and balanced path,” he said.  Two city hospitals closed over virus scare, Page 2\n",
      "\n",
      "\n",
      " the larget element is : Balasubramanium,\n"
     ]
    }
   ],
   "source": [
    "#Implement a function longestWord() that takes a list of words and returns the longest one.\n",
    "\n",
    "def long():\n",
    "    for i in range(1,2):    \n",
    "        n=list(input(\"enter the number of elements : \").split())\n",
    "        n.sort(key=len)\n",
    "    print(\"\\n\\n the larget element is :\",n[-1])\n",
    "\n",
    "long()\n"
   ]
  },
  {
   "cell_type": "markdown",
   "metadata": {},
   "source": [
    "# Task 2:\n",
    "1.1Write a Python Program(with class concepts) to find the area of the triangle using the belowformula.\n",
    "area = (s*(s-a)*(s-b)*(s-c)) ** 0.5\n",
    "Function to take the length of the sides of triangle from user should be defined in the parentclass and function to calculate the area should be defined in subclass."
   ]
  },
  {
   "cell_type": "code",
   "execution_count": 47,
   "metadata": {},
   "outputs": [
    {
     "name": "stdout",
     "output_type": "stream",
     "text": [
      "enter the length of 1st side : 5\n",
      "enter the length of 2nd side : 6\n",
      "enter the length of 3rd side : 10\n",
      "the area of the triangle is :  11.399013115177997\n"
     ]
    }
   ],
   "source": [
    "class ino:\n",
    "    def new(self):\n",
    "        self.a=float(input(\"enter the length of 1st side : \"))\n",
    "        self.b=float(input(\"enter the length of 2nd side : \"))\n",
    "        self.c=float(input(\"enter the length of 3rd side : \"))\n",
    "class cal(ino):\n",
    "    def e(self):\n",
    "        s=(self.a+self.b+self.c)/2\n",
    "        print(\"the area of the triangle is : \",(s*(s-self.a)*(s-self.b)*(s-self.c))**0.5)\n",
    "\n",
    "        \n",
    "obj1=cal()\n",
    "obj1.new()\n",
    "obj1.e()"
   ]
  },
  {
   "cell_type": "markdown",
   "metadata": {},
   "source": [
    "# 1.2\n",
    "Write a function filter_long_words() that takes a list of words and an integer n and returns the list of words that are longer than n."
   ]
  },
  {
   "cell_type": "code",
   "execution_count": 70,
   "metadata": {},
   "outputs": [
    {
     "name": "stdout",
     "output_type": "stream",
     "text": [
      "enter the number of elements :  What is Lorem Ipsum?  Lorem Ipsum is simply dummy text of the printing and typesetting industry. Lorem Ipsum has been the industry's standard dummy text ever since the 1500s, when an unknown printer took a galley of type and scrambled it to make a type specimen book. It has survived not only five centuries, but also the leap into electronic typesetting, remaining essentially unchanged. It was popularised in the 1960s with the release of Letraset sheets containing Lorem Ipsum passages, and more recently with desktop publishing software like Aldus PageMaker including versions of Lorem Ipsum. Why do we use it?  It is a long established fact that a reader will be distracted by the readable content of a page when looking at its layout. The point of using Lorem Ipsum is that it has a more-or-less normal distribution of letters, as opposed to using 'Content here, content here', making it look like readable English. Many desktop publishing packages and web page editors now use Lorem Ipsum as their default model text, and a search for 'lorem ipsum' will uncover many web sites still in their infancy. Various versions have evolved over the years, sometimes by accident, sometimes on purpose (injected humour and the like).  Where does it come from?  Contrary to popular belief, Lorem Ipsum is not simply random text. It has roots in a piece of classical Latin literature from 45 BC, making it over 2000 years old. Richard McClintock, a Latin professor at Hampden-Sydney College in Virginia, looked up one of the more obscure Latin words, consectetur, from a Lorem Ipsum passage, and going through the cites of the word in classical literature, discovered the undoubtable source. Lorem Ipsum comes from sections 1.10.32 and 1.10.33 of \"de Finibus Bonorum et Malorum\" (The Extremes of Good and Evil) by Cicero, written in 45 BC. This book is a treatise on the theory of ethics, very popular during the Renaissance. The first line of Lorem Ipsum, \"Lorem ipsum dolor sit amet..\", comes from a line in section 1.10.32.\n",
      "\n",
      " enter the integer : 12\n",
      "['Hampden-Sydney']\n"
     ]
    }
   ],
   "source": [
    "def long():\n",
    "    wd=[]#empty list\n",
    "    for i in range(1,2):    \n",
    "        n=list(input(\"enter the number of elements : \").split())\n",
    "        lo=int(input(\"\\n enter the integer : \"))\n",
    "        #st = ' '.join(map(str, n))#convert list to string\n",
    "        #print(st)\n",
    "    for i in n:\n",
    "        if len(i) > lo:\n",
    "            wd.append(i)\n",
    "    #wd.split(\" \")\n",
    "    print(wd)\n",
    "            \n",
    "long()"
   ]
  },
  {
   "cell_type": "markdown",
   "metadata": {},
   "source": [
    "# 2.1\n",
    "Write a Python program using function concept that maps  list of words into a list of integer srepresenting the lengths of the corresponding words."
   ]
  },
  {
   "cell_type": "code",
   "execution_count": 81,
   "metadata": {},
   "outputs": [
    {
     "name": "stdout",
     "output_type": "stream",
     "text": [
      "enter the number of elements : a bhb asxc nujn gfb siej\n",
      "the list is : \n",
      " ['a', 'bhb', 'asxc', 'nujn', 'gfb', 'siej']\n",
      "output is :  [1, 3, 4, 4, 3, 4]\n"
     ]
    }
   ],
   "source": [
    "def lomo():\n",
    "    w=[]\n",
    "    n=list(input(\"enter the number of elements : \").split())\n",
    "    print(\"the list is : \\n\",n)\n",
    "    for i in n:\n",
    "        a = len(i)\n",
    "        w.append(a)\n",
    "    print(\"output is : \",w)\n",
    "lomo()"
   ]
  },
  {
   "cell_type": "markdown",
   "metadata": {},
   "source": [
    "# 2.2\n",
    "Write a Python function which takes a character (i.e. a string of length 1) and returns True if it isa vowel, False otherwise."
   ]
  },
  {
   "cell_type": "code",
   "execution_count": 98,
   "metadata": {},
   "outputs": [
    {
     "name": "stdout",
     "output_type": "stream",
     "text": [
      "enter the character : U\n",
      "True\n"
     ]
    }
   ],
   "source": [
    "def vol():\n",
    "    a=\"aeiouAEIOU\"\n",
    "    for i in range(0,1):\n",
    "        s=input(\"enter the character : \")\n",
    "        if s in a:\n",
    "            return 1\n",
    "        else:\n",
    "            0\n",
    "print(bool(vol()))"
   ]
  },
  {
   "cell_type": "code",
   "execution_count": null,
   "metadata": {},
   "outputs": [],
   "source": []
  }
 ],
 "metadata": {
  "kernelspec": {
   "display_name": "Python 3",
   "language": "python",
   "name": "python3"
  },
  "language_info": {
   "codemirror_mode": {
    "name": "ipython",
    "version": 3
   },
   "file_extension": ".py",
   "mimetype": "text/x-python",
   "name": "python",
   "nbconvert_exporter": "python",
   "pygments_lexer": "ipython3",
   "version": "3.7.6"
  }
 },
 "nbformat": 4,
 "nbformat_minor": 4
}
